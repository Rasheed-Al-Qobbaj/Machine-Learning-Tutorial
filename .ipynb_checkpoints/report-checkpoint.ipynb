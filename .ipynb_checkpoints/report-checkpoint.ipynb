{
 "cells": [
  {
   "cell_type": "markdown",
   "metadata": {},
   "source": [
    "# Jupyter Notebook Setup and Machine Learning Workflow\n",
    "### Tutorial for COMP4388 Assignment\n",
    "This notebook will guide you through:\n",
    "1. Setting up and using Jupyter Notebook.\n",
    "2. Working with essential Python libraries: Pandas, Matplotlib, and Scikit-learn.\n",
    "3. Implementing tasks from the project.\n",
    "\n",
    "---"
   ]
  },
  {
   "cell_type": "markdown",
   "source": [
    "## Section 0: Introduction to Jupyter Notebook and Python\n",
    "Jupyter Notebook is an open-source web application that allows you to create and share documents containing live code, equations, visualizations, and narrative text. It's a powerful tool for data analysis and machine learning.\n",
    "\n",
    "### Options for Running Jupyter Notebook\n",
    "1. **Local Installation**: Install Jupyter Notebook on your computer using Anaconda or pip. and program using vscode or pycharm.\n",
    "2. **Google Colab**: Use Google Colab, a free cloud service with GPU support. It's a great option if you don't want to install anything on your computer.\n",
    "3. **Kaggle Kernels**: Use Kaggle Kernels, another cloud-based platform for data science and machine learning.\n",
    "\n",
    "### Notebook Cells\n",
    "- **Code Cells**: Write and execute Python code.\n",
    "- **Markdown Cells**: Write text using Markdown syntax.\n",
    "\n",
    "### Keyboard Shortcuts\n",
    "- **Run Cell**: Shift + Enter\n",
    "\n",
    "\n",
    "---\n",
    "\n",
    "\n",
    "### Python Basics\n",
    "You can learn Python basics from the following resources:\n",
    "- [Python Tutorial (w3schools)](https://www.w3schools.com/python/)\n",
    "- [Python Documentation](https://docs.python.org/3/tutorial/index.html)\n",
    "- [Python for Data Science Handbook](https://jakevdp.github.io/PythonDataScienceHandbook/)"
   ],
   "metadata": {
    "collapsed": false
   }
  },
  {
   "cell_type": "markdown",
   "metadata": {},
   "source": [
    "## Section 1: Install Required Libraries (Can be skipped if using Google Colab)\n",
    "Use the commands below to install libraries.\n",
    "`pip install notebook pandas matplotlib scikit-learn seaborn`"
   ]
  },
  {
   "cell_type": "markdown",
   "metadata": {},
   "source": [
    "## Section 2: Key Libraries and Their Uses\n",
    "We'll use:\n",
    "- `pandas` for data analysis and manipulation.\n",
    "- `matplotlib` and `seaborn` for data visualization.\n",
    "- `scikit-learn` for machine learning."
   ]
  },
  {
   "cell_type": "code",
   "execution_count": 1,
   "metadata": {
    "ExecuteTime": {
     "end_time": "2024-12-16T21:43:40.410834Z",
     "start_time": "2024-12-16T21:43:40.406431Z"
    }
   },
   "outputs": [],
   "source": [
    "import pandas as pd\n",
    "import matplotlib.pyplot as plt\n",
    "import seaborn as sns"
   ]
  },
  {
   "cell_type": "markdown",
   "metadata": {},
   "source": [
    "\n",
    "## Section 3: Working with the Dataset\n",
    "### Load the Dataset\n",
    "We'll load the dataset and perform basic exploration."
   ]
  },
  {
   "cell_type": "code",
   "outputs": [
    {
     "name": "stdout",
     "output_type": "stream",
     "text": [
      "Dataset Overview:\n"
     ]
    },
    {
     "data": {
      "text/plain": "   ID  Call Failure Complains  Charge Amount  Freq. of use  Freq. of SMS  \\\n0   1             3        no            100            25            32   \n1   2             8        no            100            65             0   \n2   3             0        no            200             0             0   \n3   4            10        no            100            54           327   \n4   5            10        no            100            60             0   \n\n   Distinct Called Numbers  Age Group      Plan      Status  Age  \\\n0                       11          3  pre-paid      active   30   \n1                       13          2  pre-paid      active   25   \n2                        0          2  pre-paid  not-active   25   \n3                       20          2  pre-paid      active   25   \n4                       31          1  pre-paid      active   15   \n\n   Customer Value Churn  \n0         193.120    no  \n1         194.400   yes  \n2           0.000   yes  \n3        1579.140   yes  \n4         227.865   yes  ",
      "text/html": "<div>\n<style scoped>\n    .dataframe tbody tr th:only-of-type {\n        vertical-align: middle;\n    }\n\n    .dataframe tbody tr th {\n        vertical-align: top;\n    }\n\n    .dataframe thead th {\n        text-align: right;\n    }\n</style>\n<table border=\"1\" class=\"dataframe\">\n  <thead>\n    <tr style=\"text-align: right;\">\n      <th></th>\n      <th>ID</th>\n      <th>Call Failure</th>\n      <th>Complains</th>\n      <th>Charge Amount</th>\n      <th>Freq. of use</th>\n      <th>Freq. of SMS</th>\n      <th>Distinct Called Numbers</th>\n      <th>Age Group</th>\n      <th>Plan</th>\n      <th>Status</th>\n      <th>Age</th>\n      <th>Customer Value</th>\n      <th>Churn</th>\n    </tr>\n  </thead>\n  <tbody>\n    <tr>\n      <th>0</th>\n      <td>1</td>\n      <td>3</td>\n      <td>no</td>\n      <td>100</td>\n      <td>25</td>\n      <td>32</td>\n      <td>11</td>\n      <td>3</td>\n      <td>pre-paid</td>\n      <td>active</td>\n      <td>30</td>\n      <td>193.120</td>\n      <td>no</td>\n    </tr>\n    <tr>\n      <th>1</th>\n      <td>2</td>\n      <td>8</td>\n      <td>no</td>\n      <td>100</td>\n      <td>65</td>\n      <td>0</td>\n      <td>13</td>\n      <td>2</td>\n      <td>pre-paid</td>\n      <td>active</td>\n      <td>25</td>\n      <td>194.400</td>\n      <td>yes</td>\n    </tr>\n    <tr>\n      <th>2</th>\n      <td>3</td>\n      <td>0</td>\n      <td>no</td>\n      <td>200</td>\n      <td>0</td>\n      <td>0</td>\n      <td>0</td>\n      <td>2</td>\n      <td>pre-paid</td>\n      <td>not-active</td>\n      <td>25</td>\n      <td>0.000</td>\n      <td>yes</td>\n    </tr>\n    <tr>\n      <th>3</th>\n      <td>4</td>\n      <td>10</td>\n      <td>no</td>\n      <td>100</td>\n      <td>54</td>\n      <td>327</td>\n      <td>20</td>\n      <td>2</td>\n      <td>pre-paid</td>\n      <td>active</td>\n      <td>25</td>\n      <td>1579.140</td>\n      <td>yes</td>\n    </tr>\n    <tr>\n      <th>4</th>\n      <td>5</td>\n      <td>10</td>\n      <td>no</td>\n      <td>100</td>\n      <td>60</td>\n      <td>0</td>\n      <td>31</td>\n      <td>1</td>\n      <td>pre-paid</td>\n      <td>active</td>\n      <td>15</td>\n      <td>227.865</td>\n      <td>yes</td>\n    </tr>\n  </tbody>\n</table>\n</div>"
     },
     "execution_count": 4,
     "metadata": {},
     "output_type": "execute_result"
    }
   ],
   "source": [
    "# Load the dataset\n",
    "data = pd.read_csv('Customer Churn.csv')\n",
    "\n",
    "# Show the first few rows\n",
    "print(\"Dataset Overview:\")\n",
    "data.head()"
   ],
   "metadata": {
    "collapsed": false,
    "ExecuteTime": {
     "end_time": "2024-12-16T21:47:01.191360Z",
     "start_time": "2024-12-16T21:47:01.143263Z"
    }
   },
   "execution_count": 4
  },
  {
   "cell_type": "code",
   "outputs": [],
   "source": [
    "# Display dataset shape\n",
    "print(\"\\nDataset Info:\")\n",
    "data.info()"
   ],
   "metadata": {
    "collapsed": false
   }
  },
  {
   "cell_type": "code",
   "outputs": [],
   "source": [
    "# Check for missing values\n",
    "print(\"\\nMissing Values:\")\n",
    "print(data.isnull().sum())"
   ],
   "metadata": {
    "collapsed": false
   }
  },
  {
   "cell_type": "markdown",
   "metadata": {},
   "source": [
    "## Section 4: Exploratory Data Analysis (EDA)\n",
    "### 1. Summary Statistics"
   ]
  },
  {
   "cell_type": "code",
   "execution_count": null,
   "metadata": {},
   "outputs": [],
   "source": [
    "# Display summary statistics\n",
    "data.describe()"
   ]
  },
  {
   "cell_type": "markdown",
   "metadata": {},
   "source": [
    "### 2. Visualizing Class Distribution\n",
    "Let's see the churn distribution."
   ]
  },
  {
   "cell_type": "code",
   "execution_count": null,
   "metadata": {},
   "outputs": [],
   "source": [
    "# Churn distribution\n",
    "sns.countplot(x='Churn', data=data)\n",
    "plt.title('Churn Distribution')\n",
    "plt.show()"
   ]
  },
  {
   "cell_type": "markdown",
   "metadata": {},
   "source": [
    "### 3. Histograms for Churn by Age Group and Charge Amount"
   ]
  },
  {
   "cell_type": "code",
   "execution_count": null,
   "metadata": {},
   "outputs": [],
   "source": [
    "# Age group histogram\n",
    "sns.histplot(data=data, x='Age', hue='Churn', multiple='stack', kde=False)\n",
    "plt.title('Age Group vs Churn')\n",
    "plt.show()\n",
    "\n",
    "# Charge amount histogram\n",
    "sns.histplot(data=data, x='TotalCharges', hue='Churn', multiple='stack', kde=False)\n",
    "plt.title('Charge Amount vs Churn')\n",
    "plt.show()"
   ]
  },
  {
   "cell_type": "markdown",
   "metadata": {},
   "source": [
    "## Section 5: Correlation Heatmap\n",
    "Analyze feature correlations."
   ]
  },
  {
   "cell_type": "code",
   "execution_count": null,
   "metadata": {},
   "outputs": [],
   "source": [
    "# Correlation heatmap\n",
    "corr_matrix = data.corr()\n",
    "sns.heatmap(corr_matrix, annot=True, fmt=\".2f\", cmap=\"coolwarm\")\n",
    "plt.title(\"Feature Correlations\")\n",
    "plt.show()"
   ]
  },
  {
   "cell_type": "markdown",
   "metadata": {},
   "source": [
    "## Section 6: Splitting Data for Training and Testing\n",
    "We'll prepare the data for machine learning."
   ]
  },
  {
   "cell_type": "code",
   "execution_count": null,
   "metadata": {},
   "outputs": [],
   "source": [
    "# Split the dataset into training (70%) and testing (30%)\n",
    "X = data.drop(['Churn'], axis=1)\n",
    "y = data['Churn']\n",
    "X_train, X_test, y_train, y_test = train_test_split(X, y, test_size=0.3, random_state=42)\n",
    "\n",
    "print(f\"Training Set: {X_train.shape}\")\n",
    "print(f\"Testing Set: {X_test.shape}\")"
   ]
  },
  {
   "cell_type": "markdown",
   "metadata": {},
   "source": [
    "## Section 7: Linear Regression Example\n",
    "Train a regression model on the data."
   ]
  },
  {
   "cell_type": "code",
   "execution_count": null,
   "metadata": {},
   "outputs": [],
   "source": [
    "# Train a Linear Regression Model\n",
    "model = LinearRegression()\n",
    "model.fit(X_train, y_train)\n",
    "\n",
    "# Make predictions and evaluate\n",
    "y_pred = model.predict(X_test)\n",
    "mse = mean_squared_error(y_test, y_pred)\n",
    "\n",
    "print(f\"Mean Squared Error: {mse}\")"
   ]
  },
  {
   "cell_type": "markdown",
   "metadata": {},
   "source": [
    "## Section 8: Next Steps\n",
    "1. Extend the notebook to include classification models.\n",
    "2. Use additional visualizations for better insights.\n",
    "3. Export results and include explanations for your report.\n",
    "\n",
    "---\n",
    "\n",
    "Thank you for following this tutorial!"
   ]
  }
 ],
 "metadata": {
  "language_info": {
   "name": "python"
  },
  "kernelspec": {
   "name": "python3",
   "language": "python",
   "display_name": "Python 3 (ipykernel)"
  }
 },
 "nbformat": 4,
 "nbformat_minor": 2
}
